{
  "cells": [
    {
      "cell_type": "markdown",
      "metadata": {
        "id": "view-in-github",
        "colab_type": "text"
      },
      "source": [
        "<a href=\"https://colab.research.google.com/github/MateusSales02/CoisodoTrem/blob/main/tremautonomo.ipynb\" target=\"_parent\"><img src=\"https://colab.research.google.com/assets/colab-badge.svg\" alt=\"Open In Colab\"/></a>"
      ]
    },
    {
      "cell_type": "code",
      "source": [
        "import unittest\n",
        "\n",
        "class TremAutonomo:\n",
        "    def __init__(self):\n",
        "        self.posicao = 0\n",
        "        self.movimentos = 0\n",
        "        self.direcao_consecutiva = None\n",
        "        self.contador_consecutivo = 0\n",
        "\n",
        "    def mover(self, comandos):\n",
        "        for comando in comandos:\n",
        "            if comando not in [\"ESQUERDA\", \"DIREITA\"]:\n",
        "                raise ValueError(f\"Comando inválido: {comando}\")\n",
        "\n",
        "            if self.movimentos >= 50:\n",
        "                break\n",
        "\n",
        "            if comando == self.direcao_consecutiva:\n",
        "                self.contador_consecutivo += 1\n",
        "            else:\n",
        "                self.contador_consecutivo = 1\n",
        "                self.direcao_consecutiva = comando\n",
        "\n",
        "            if self.contador_consecutivo > 20:\n",
        "                raise ValueError(\"Mais de 20 movimentos consecutivos na mesma direção.\")\n",
        "\n",
        "            if comando == \"DIREITA\":\n",
        "                self.posicao += 1\n",
        "            elif comando == \"ESQUERDA\":\n",
        "                self.posicao -= 1\n",
        "\n",
        "            self.movimentos += 1\n",
        "\n",
        "        return self.posicao\n",
        "\n",
        "class TestTremAutonomo(unittest.TestCase):\n",
        "    def test_movimentos_basicos(self):\n",
        "        trem = TremAutonomo()\n",
        "        self.assertEqual(trem.mover([\"DIREITA\", \"DIREITA\"]), 2)\n",
        "        self.assertEqual(trem.mover([\"ESQUERDA\"]), 1)  # Corrigido para refletir a posição atual após um movimento anterior\n",
        "\n",
        "    def test_parada_automatico(self):\n",
        "        trem = TremAutonomo()\n",
        "        comandos = [\"DIREITA\"] * 50\n",
        "        self.assertEqual(trem.mover(comandos), 50)\n",
        "\n",
        "    def test_movimentos_consecutivos(self):\n",
        "        trem = TremAutonomo()\n",
        "        with self.assertRaises(ValueError):\n",
        "            trem.mover([\"DIREITA\"] * 21)\n",
        "\n",
        "    def test_comando_invalido(self):\n",
        "        trem = TremAutonomo()\n",
        "        with self.assertRaises(ValueError):\n",
        "            trem.mover([\"CIMA\"])\n",
        "\n",
        "# Rodando os testes no Colab\n",
        "if __name__ == \"__main__\":\n",
        "    unittest.main(argv=['first-arg-is-ignored'], exit=False)\n"
      ],
      "metadata": {
        "id": "9d1b4Qz4V8h4",
        "outputId": "a0d25f54-3ca7-4ab8-fdbb-49228db043a0",
        "colab": {
          "base_uri": "https://localhost:8080/"
        }
      },
      "execution_count": 6,
      "outputs": [
        {
          "output_type": "stream",
          "name": "stderr",
          "text": [
            "...E\n",
            "======================================================================\n",
            "ERROR: test_parada_automatico (__main__.TestTremAutonomo)\n",
            "----------------------------------------------------------------------\n",
            "Traceback (most recent call last):\n",
            "  File \"<ipython-input-6-4aa6c132f245>\", line 45, in test_parada_automatico\n",
            "    self.assertEqual(trem.mover(comandos), 50)\n",
            "  File \"<ipython-input-6-4aa6c132f245>\", line 25, in mover\n",
            "    raise ValueError(\"Mais de 20 movimentos consecutivos na mesma direção.\")\n",
            "ValueError: Mais de 20 movimentos consecutivos na mesma direção.\n",
            "\n",
            "----------------------------------------------------------------------\n",
            "Ran 4 tests in 0.033s\n",
            "\n",
            "FAILED (errors=1)\n"
          ]
        }
      ]
    },
    {
      "cell_type": "markdown",
      "source": [],
      "metadata": {
        "id": "Bm0SwDHSV8Tz"
      }
    }
  ],
  "metadata": {
    "colab": {
      "name": "Olá, este é o Colaboratory",
      "toc_visible": true,
      "provenance": [],
      "include_colab_link": true
    },
    "kernelspec": {
      "display_name": "Python 3",
      "name": "python3"
    }
  },
  "nbformat": 4,
  "nbformat_minor": 0
}